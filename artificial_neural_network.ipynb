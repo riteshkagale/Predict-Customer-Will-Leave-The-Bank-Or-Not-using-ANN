{
  "nbformat": 4,
  "nbformat_minor": 0,
  "metadata": {
    "colab": {
      "name": "artificial_neural_network.ipynb",
      "provenance": [],
      "collapsed_sections": []
    },
    "kernelspec": {
      "name": "python3",
      "display_name": "Python 3"
    }
  },
  "cells": [
    {
      "cell_type": "markdown",
      "metadata": {
        "id": "gWZyYmS_UE_L"
      },
      "source": [
        "### Importing the libraries"
      ]
    },
    {
      "cell_type": "code",
      "metadata": {
        "id": "MxkJoQBkUIHC"
      },
      "source": [
        "import numpy as np\n",
        "import pandas as pd\n",
        "import tensorflow as tf"
      ],
      "execution_count": 1,
      "outputs": []
    },
    {
      "cell_type": "code",
      "metadata": {
        "id": "ZaTwK7ojXr2F",
        "outputId": "f51f1aa5-8241-4945-9828-5cb8b7977644",
        "colab": {
          "base_uri": "https://localhost:8080/",
          "height": 35
        }
      },
      "source": [
        "tf.__version__"
      ],
      "execution_count": 2,
      "outputs": [
        {
          "output_type": "execute_result",
          "data": {
            "application/vnd.google.colaboratory.intrinsic+json": {
              "type": "string"
            },
            "text/plain": [
              "'2.3.0'"
            ]
          },
          "metadata": {
            "tags": []
          },
          "execution_count": 2
        }
      ]
    },
    {
      "cell_type": "code",
      "metadata": {
        "id": "3bw13zEEOwjK",
        "outputId": "3340308f-ac2f-4e1d-9293-523f0cfef903",
        "colab": {
          "base_uri": "https://localhost:8080/",
          "height": 34
        }
      },
      "source": [
        "from google.colab import drive\n",
        "drive.mount('/content/gdrive')"
      ],
      "execution_count": 3,
      "outputs": [
        {
          "output_type": "stream",
          "text": [
            "Drive already mounted at /content/gdrive; to attempt to forcibly remount, call drive.mount(\"/content/gdrive\", force_remount=True).\n"
          ],
          "name": "stdout"
        }
      ]
    },
    {
      "cell_type": "markdown",
      "metadata": {
        "id": "1E0Q3aoKUCRX"
      },
      "source": [
        "## Part 1 - Data Preprocessing"
      ]
    },
    {
      "cell_type": "markdown",
      "metadata": {
        "id": "cKWAkFVGUU0Z"
      },
      "source": [
        "### Importing the dataset"
      ]
    },
    {
      "cell_type": "code",
      "metadata": {
        "id": "MXUkhkMfU4wq"
      },
      "source": [
        "dataset = pd.read_csv('/content/gdrive/My Drive/Colab Notebooks/Churn_Modelling.csv')\n",
        "X = dataset.iloc[:, 3:-1].values\n",
        "y = dataset.iloc[:, -1].values"
      ],
      "execution_count": 4,
      "outputs": []
    },
    {
      "cell_type": "code",
      "metadata": {
        "id": "VYP9cQTWbzuI",
        "outputId": "adfcabe9-0c19-442c-a9db-81e1af20e35c",
        "colab": {
          "base_uri": "https://localhost:8080/",
          "height": 134
        }
      },
      "source": [
        "print(X)"
      ],
      "execution_count": 5,
      "outputs": [
        {
          "output_type": "stream",
          "text": [
            "[[619 'France' 'Female' ... 1 1 101348.88]\n",
            " [608 'Spain' 'Female' ... 0 1 112542.58]\n",
            " [502 'France' 'Female' ... 1 0 113931.57]\n",
            " ...\n",
            " [709 'France' 'Female' ... 0 1 42085.58]\n",
            " [772 'Germany' 'Male' ... 1 0 92888.52]\n",
            " [792 'France' 'Female' ... 1 0 38190.78]]\n"
          ],
          "name": "stdout"
        }
      ]
    },
    {
      "cell_type": "code",
      "metadata": {
        "id": "38vKGE6Nb2RR",
        "outputId": "b21df70b-4115-4acc-b49d-ec8aefd51315",
        "colab": {
          "base_uri": "https://localhost:8080/",
          "height": 34
        }
      },
      "source": [
        "print(y)"
      ],
      "execution_count": 6,
      "outputs": [
        {
          "output_type": "stream",
          "text": [
            "[1 0 1 ... 1 1 0]\n"
          ],
          "name": "stdout"
        }
      ]
    },
    {
      "cell_type": "markdown",
      "metadata": {
        "id": "N6bQ0UgSU-NJ"
      },
      "source": [
        "### Encoding categorical data"
      ]
    },
    {
      "cell_type": "markdown",
      "metadata": {
        "id": "le5MJreAbW52"
      },
      "source": [
        "Label Encoding the \"Gender\" column"
      ]
    },
    {
      "cell_type": "code",
      "metadata": {
        "id": "PxVKWXxLbczC"
      },
      "source": [
        "from sklearn.preprocessing import LabelEncoder\n",
        "le = LabelEncoder()\n",
        "X[:, 2] = le.fit_transform(X[:, 2])"
      ],
      "execution_count": 7,
      "outputs": []
    },
    {
      "cell_type": "code",
      "metadata": {
        "id": "-M1KboxFb6OO",
        "outputId": "963770b5-ab26-431e-a97a-51f20a960ab1",
        "colab": {
          "base_uri": "https://localhost:8080/",
          "height": 134
        }
      },
      "source": [
        "print(X)"
      ],
      "execution_count": 8,
      "outputs": [
        {
          "output_type": "stream",
          "text": [
            "[[619 'France' 0 ... 1 1 101348.88]\n",
            " [608 'Spain' 0 ... 0 1 112542.58]\n",
            " [502 'France' 0 ... 1 0 113931.57]\n",
            " ...\n",
            " [709 'France' 0 ... 0 1 42085.58]\n",
            " [772 'Germany' 1 ... 1 0 92888.52]\n",
            " [792 'France' 0 ... 1 0 38190.78]]\n"
          ],
          "name": "stdout"
        }
      ]
    },
    {
      "cell_type": "markdown",
      "metadata": {
        "id": "CUxGZezpbMcb"
      },
      "source": [
        "One Hot Encoding the \"Geography\" column"
      ]
    },
    {
      "cell_type": "code",
      "metadata": {
        "id": "AMXC8-KMVirw"
      },
      "source": [
        "from sklearn.compose import ColumnTransformer\n",
        "from sklearn.preprocessing import OneHotEncoder\n",
        "ct = ColumnTransformer(transformers=[('encoder', OneHotEncoder(), [1])], remainder='passthrough')\n",
        "X = np.array(ct.fit_transform(X))"
      ],
      "execution_count": 9,
      "outputs": []
    },
    {
      "cell_type": "code",
      "metadata": {
        "id": "ZcxwEon-b8nV",
        "outputId": "1ee3d7c0-4c43-4cfd-feda-0207ed6b2c6a",
        "colab": {
          "base_uri": "https://localhost:8080/",
          "height": 134
        }
      },
      "source": [
        "print(X)"
      ],
      "execution_count": 10,
      "outputs": [
        {
          "output_type": "stream",
          "text": [
            "[[1.0 0.0 0.0 ... 1 1 101348.88]\n",
            " [0.0 0.0 1.0 ... 0 1 112542.58]\n",
            " [1.0 0.0 0.0 ... 1 0 113931.57]\n",
            " ...\n",
            " [1.0 0.0 0.0 ... 0 1 42085.58]\n",
            " [0.0 1.0 0.0 ... 1 0 92888.52]\n",
            " [1.0 0.0 0.0 ... 1 0 38190.78]]\n"
          ],
          "name": "stdout"
        }
      ]
    },
    {
      "cell_type": "markdown",
      "metadata": {
        "id": "vHol938cW8zd"
      },
      "source": [
        "### Splitting the dataset into the Training set and Test set"
      ]
    },
    {
      "cell_type": "code",
      "metadata": {
        "id": "Z-TDt0Y_XEfc"
      },
      "source": [
        "from sklearn.model_selection import train_test_split\n",
        "X_train, X_test, y_train, y_test = train_test_split(X, y, test_size = 0.2, random_state = 0)"
      ],
      "execution_count": 11,
      "outputs": []
    },
    {
      "cell_type": "markdown",
      "metadata": {
        "id": "RE_FcHyfV3TQ"
      },
      "source": [
        "### Feature Scaling"
      ]
    },
    {
      "cell_type": "code",
      "metadata": {
        "id": "ViCrE00rV8Sk"
      },
      "source": [
        "from sklearn.preprocessing import StandardScaler\n",
        "sc = StandardScaler()\n",
        "X_train = sc.fit_transform(X_train)\n",
        "X_test = sc.transform(X_test)"
      ],
      "execution_count": 12,
      "outputs": []
    },
    {
      "cell_type": "markdown",
      "metadata": {
        "id": "-zfEzkRVXIwF"
      },
      "source": [
        "## Part 2 - Building the ANN"
      ]
    },
    {
      "cell_type": "markdown",
      "metadata": {
        "id": "KvdeScabXtlB"
      },
      "source": [
        "### Initializing the ANN"
      ]
    },
    {
      "cell_type": "code",
      "metadata": {
        "id": "3dtrScHxXQox"
      },
      "source": [
        "ann = tf.keras.models.Sequential()"
      ],
      "execution_count": 13,
      "outputs": []
    },
    {
      "cell_type": "markdown",
      "metadata": {
        "id": "rP6urV6SX7kS"
      },
      "source": [
        "### Adding the input layer and the first hidden layer"
      ]
    },
    {
      "cell_type": "code",
      "metadata": {
        "id": "bppGycBXYCQr"
      },
      "source": [
        "ann.add(tf.keras.layers.Dense(units=6, activation='relu'))"
      ],
      "execution_count": 14,
      "outputs": []
    },
    {
      "cell_type": "markdown",
      "metadata": {
        "id": "BELWAc_8YJze"
      },
      "source": [
        "### Adding the second hidden layer"
      ]
    },
    {
      "cell_type": "code",
      "metadata": {
        "id": "JneR0u0sYRTd"
      },
      "source": [
        "ann.add(tf.keras.layers.Dense(units=6, activation='relu'))"
      ],
      "execution_count": 15,
      "outputs": []
    },
    {
      "cell_type": "markdown",
      "metadata": {
        "id": "OyNEe6RXYcU4"
      },
      "source": [
        "### Adding the output layer"
      ]
    },
    {
      "cell_type": "code",
      "metadata": {
        "id": "Cn3x41RBYfvY"
      },
      "source": [
        "ann.add(tf.keras.layers.Dense(units=1, activation='sigmoid'))"
      ],
      "execution_count": 16,
      "outputs": []
    },
    {
      "cell_type": "markdown",
      "metadata": {
        "id": "JT4u2S1_Y4WG"
      },
      "source": [
        "## Part 3 - Training the ANN"
      ]
    },
    {
      "cell_type": "markdown",
      "metadata": {
        "id": "8GWlJChhY_ZI"
      },
      "source": [
        "### Compiling the ANN"
      ]
    },
    {
      "cell_type": "code",
      "metadata": {
        "id": "fG3RrwDXZEaS"
      },
      "source": [
        "ann.compile(optimizer = 'adam', loss = 'binary_crossentropy', metrics = ['accuracy'])"
      ],
      "execution_count": 17,
      "outputs": []
    },
    {
      "cell_type": "markdown",
      "metadata": {
        "id": "0QR_G5u7ZLSM"
      },
      "source": [
        "### Training the ANN on the Training set"
      ]
    },
    {
      "cell_type": "code",
      "metadata": {
        "id": "nHZ-LKv_ZRb3",
        "outputId": "d0446457-e518-4361-f3ab-b52dc56dcc29",
        "colab": {
          "base_uri": "https://localhost:8080/",
          "height": 1000
        }
      },
      "source": [
        "ann.fit(X_train, y_train, batch_size = 32, epochs = 50)"
      ],
      "execution_count": 18,
      "outputs": [
        {
          "output_type": "stream",
          "text": [
            "Epoch 1/50\n",
            "250/250 [==============================] - 0s 928us/step - loss: 0.5628 - accuracy: 0.7786\n",
            "Epoch 2/50\n",
            "250/250 [==============================] - 0s 942us/step - loss: 0.4814 - accuracy: 0.7962\n",
            "Epoch 3/50\n",
            "250/250 [==============================] - 0s 977us/step - loss: 0.4531 - accuracy: 0.8009\n",
            "Epoch 4/50\n",
            "250/250 [==============================] - 0s 959us/step - loss: 0.4409 - accuracy: 0.8076\n",
            "Epoch 5/50\n",
            "250/250 [==============================] - 0s 907us/step - loss: 0.4339 - accuracy: 0.8117\n",
            "Epoch 6/50\n",
            "250/250 [==============================] - 0s 910us/step - loss: 0.4296 - accuracy: 0.8146\n",
            "Epoch 7/50\n",
            "250/250 [==============================] - 0s 932us/step - loss: 0.4264 - accuracy: 0.8190\n",
            "Epoch 8/50\n",
            "250/250 [==============================] - 0s 973us/step - loss: 0.4230 - accuracy: 0.8209\n",
            "Epoch 9/50\n",
            "250/250 [==============================] - 0s 923us/step - loss: 0.4203 - accuracy: 0.8248\n",
            "Epoch 10/50\n",
            "250/250 [==============================] - 0s 907us/step - loss: 0.4167 - accuracy: 0.8270\n",
            "Epoch 11/50\n",
            "250/250 [==============================] - 0s 890us/step - loss: 0.4127 - accuracy: 0.8298\n",
            "Epoch 12/50\n",
            "250/250 [==============================] - 0s 937us/step - loss: 0.4098 - accuracy: 0.8306\n",
            "Epoch 13/50\n",
            "250/250 [==============================] - 0s 929us/step - loss: 0.4070 - accuracy: 0.8316\n",
            "Epoch 14/50\n",
            "250/250 [==============================] - 0s 899us/step - loss: 0.4053 - accuracy: 0.8319\n",
            "Epoch 15/50\n",
            "250/250 [==============================] - 0s 885us/step - loss: 0.4033 - accuracy: 0.8330\n",
            "Epoch 16/50\n",
            "250/250 [==============================] - 0s 876us/step - loss: 0.4019 - accuracy: 0.8340\n",
            "Epoch 17/50\n",
            "250/250 [==============================] - 0s 952us/step - loss: 0.4012 - accuracy: 0.8346\n",
            "Epoch 18/50\n",
            "250/250 [==============================] - 0s 890us/step - loss: 0.3998 - accuracy: 0.8355\n",
            "Epoch 19/50\n",
            "250/250 [==============================] - 0s 876us/step - loss: 0.3991 - accuracy: 0.8344\n",
            "Epoch 20/50\n",
            "250/250 [==============================] - 0s 890us/step - loss: 0.3981 - accuracy: 0.8341\n",
            "Epoch 21/50\n",
            "250/250 [==============================] - 0s 905us/step - loss: 0.3967 - accuracy: 0.8351\n",
            "Epoch 22/50\n",
            "250/250 [==============================] - 0s 945us/step - loss: 0.3959 - accuracy: 0.8354\n",
            "Epoch 23/50\n",
            "250/250 [==============================] - 0s 896us/step - loss: 0.3948 - accuracy: 0.8360\n",
            "Epoch 24/50\n",
            "250/250 [==============================] - 0s 891us/step - loss: 0.3938 - accuracy: 0.8366\n",
            "Epoch 25/50\n",
            "250/250 [==============================] - 0s 902us/step - loss: 0.3928 - accuracy: 0.8360\n",
            "Epoch 26/50\n",
            "250/250 [==============================] - 0s 937us/step - loss: 0.3914 - accuracy: 0.8403\n",
            "Epoch 27/50\n",
            "250/250 [==============================] - 0s 946us/step - loss: 0.3901 - accuracy: 0.8384\n",
            "Epoch 28/50\n",
            "250/250 [==============================] - 0s 947us/step - loss: 0.3879 - accuracy: 0.8384\n",
            "Epoch 29/50\n",
            "250/250 [==============================] - 0s 869us/step - loss: 0.3847 - accuracy: 0.8413\n",
            "Epoch 30/50\n",
            "250/250 [==============================] - 0s 926us/step - loss: 0.3818 - accuracy: 0.8411\n",
            "Epoch 31/50\n",
            "250/250 [==============================] - 0s 917us/step - loss: 0.3783 - accuracy: 0.8428\n",
            "Epoch 32/50\n",
            "250/250 [==============================] - 0s 868us/step - loss: 0.3745 - accuracy: 0.8466\n",
            "Epoch 33/50\n",
            "250/250 [==============================] - 0s 913us/step - loss: 0.3688 - accuracy: 0.8500\n",
            "Epoch 34/50\n",
            "250/250 [==============================] - 0s 891us/step - loss: 0.3636 - accuracy: 0.8525\n",
            "Epoch 35/50\n",
            "250/250 [==============================] - 0s 942us/step - loss: 0.3581 - accuracy: 0.8554\n",
            "Epoch 36/50\n",
            "250/250 [==============================] - 0s 886us/step - loss: 0.3534 - accuracy: 0.8569\n",
            "Epoch 37/50\n",
            "250/250 [==============================] - 0s 909us/step - loss: 0.3493 - accuracy: 0.8572\n",
            "Epoch 38/50\n",
            "250/250 [==============================] - 0s 938us/step - loss: 0.3459 - accuracy: 0.8596\n",
            "Epoch 39/50\n",
            "250/250 [==============================] - 0s 956us/step - loss: 0.3443 - accuracy: 0.8597\n",
            "Epoch 40/50\n",
            "250/250 [==============================] - 0s 926us/step - loss: 0.3423 - accuracy: 0.8611\n",
            "Epoch 41/50\n",
            "250/250 [==============================] - 0s 916us/step - loss: 0.3410 - accuracy: 0.8611\n",
            "Epoch 42/50\n",
            "250/250 [==============================] - 0s 890us/step - loss: 0.3409 - accuracy: 0.8596\n",
            "Epoch 43/50\n",
            "250/250 [==============================] - 0s 1ms/step - loss: 0.3399 - accuracy: 0.8615\n",
            "Epoch 44/50\n",
            "250/250 [==============================] - 0s 981us/step - loss: 0.3397 - accuracy: 0.8616\n",
            "Epoch 45/50\n",
            "250/250 [==============================] - 0s 993us/step - loss: 0.3395 - accuracy: 0.8609\n",
            "Epoch 46/50\n",
            "250/250 [==============================] - 0s 1ms/step - loss: 0.3392 - accuracy: 0.8631\n",
            "Epoch 47/50\n",
            "250/250 [==============================] - 0s 1ms/step - loss: 0.3385 - accuracy: 0.8618\n",
            "Epoch 48/50\n",
            "250/250 [==============================] - 0s 964us/step - loss: 0.3384 - accuracy: 0.8605\n",
            "Epoch 49/50\n",
            "250/250 [==============================] - 0s 951us/step - loss: 0.3384 - accuracy: 0.8626\n",
            "Epoch 50/50\n",
            "250/250 [==============================] - 0s 1ms/step - loss: 0.3382 - accuracy: 0.8614\n"
          ],
          "name": "stdout"
        },
        {
          "output_type": "execute_result",
          "data": {
            "text/plain": [
              "<tensorflow.python.keras.callbacks.History at 0x7f9829a7a588>"
            ]
          },
          "metadata": {
            "tags": []
          },
          "execution_count": 18
        }
      ]
    },
    {
      "cell_type": "markdown",
      "metadata": {
        "id": "tJj5k2MxZga3"
      },
      "source": [
        "## Part 4 - Making the predictions and evaluating the model"
      ]
    },
    {
      "cell_type": "markdown",
      "metadata": {
        "id": "84QFoqGYeXHL"
      },
      "source": [
        "### Predicting the result of a single observation"
      ]
    },
    {
      "cell_type": "code",
      "metadata": {
        "id": "2d8IoCCkeWGL",
        "outputId": "dead029e-1821-46f4-d80b-550ccd648e59",
        "colab": {
          "base_uri": "https://localhost:8080/",
          "height": 34
        }
      },
      "source": [
        "print(ann.predict(sc.transform([[1, 0, 0, 600, 1, 40, 3, 60000, 2, 1, 1, 50000]])) > 0.5)"
      ],
      "execution_count": 19,
      "outputs": [
        {
          "output_type": "stream",
          "text": [
            "[[False]]\n"
          ],
          "name": "stdout"
        }
      ]
    },
    {
      "cell_type": "markdown",
      "metadata": {
        "id": "u7yx47jPZt11"
      },
      "source": [
        "### Predicting the Test set results"
      ]
    },
    {
      "cell_type": "code",
      "metadata": {
        "id": "nIyEeQdRZwgs",
        "outputId": "9c9213a8-1e9e-4f3e-e546-fc5de2032fd8",
        "colab": {
          "base_uri": "https://localhost:8080/",
          "height": 134
        }
      },
      "source": [
        "y_pred = ann.predict(X_test)\n",
        "y_pred = (y_pred > 0.5)\n",
        "print(np.concatenate((y_pred.reshape(len(y_pred),1), y_test.reshape(len(y_test),1)),1))"
      ],
      "execution_count": 20,
      "outputs": [
        {
          "output_type": "stream",
          "text": [
            "[[0 0]\n",
            " [0 1]\n",
            " [0 0]\n",
            " ...\n",
            " [0 0]\n",
            " [0 0]\n",
            " [0 0]]\n"
          ],
          "name": "stdout"
        }
      ]
    },
    {
      "cell_type": "markdown",
      "metadata": {
        "id": "o0oyfLWoaEGw"
      },
      "source": [
        "### Making the Confusion Matrix"
      ]
    },
    {
      "cell_type": "code",
      "metadata": {
        "id": "ci6K_r6LaF6P",
        "outputId": "6f722ab2-141e-4ad8-a98d-fb0a8fee3f42",
        "colab": {
          "base_uri": "https://localhost:8080/",
          "height": 67
        }
      },
      "source": [
        "from sklearn.metrics import confusion_matrix, accuracy_score\n",
        "cm = confusion_matrix(y_test, y_pred)\n",
        "print(cm)\n",
        "accuracy_score(y_test, y_pred)"
      ],
      "execution_count": 21,
      "outputs": [
        {
          "output_type": "stream",
          "text": [
            "[[1514   81]\n",
            " [ 200  205]]\n"
          ],
          "name": "stdout"
        },
        {
          "output_type": "execute_result",
          "data": {
            "text/plain": [
              "0.8595"
            ]
          },
          "metadata": {
            "tags": []
          },
          "execution_count": 21
        }
      ]
    }
  ]
}